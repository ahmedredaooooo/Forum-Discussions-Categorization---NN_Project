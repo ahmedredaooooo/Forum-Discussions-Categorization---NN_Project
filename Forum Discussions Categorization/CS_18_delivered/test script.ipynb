{
 "cells": [
  {
   "cell_type": "code",
   "execution_count": 1,
   "id": "initial_id",
   "metadata": {
    "collapsed": true,
    "ExecuteTime": {
     "end_time": "2024-12-25T11:02:48.224544Z",
     "start_time": "2024-12-25T11:02:48.198615Z"
    }
   },
   "outputs": [
    {
     "name": "stdout",
     "output_type": "stream",
     "text": [
      "hello\n"
     ]
    }
   ],
   "source": [
    "import pandas as pd  # For data manipulation and handling\n",
    "import re  # For regular expressions\n",
    "\n",
    "from tensorflow.keras.models import load_model  # To load trained models\n",
    "from transformers import AutoTokenizer  # To use a pre-trained tokenizer (e.g., BERT)\n",
    "\n",
    "import numpy as np  # If needed for numerical operations"
   ]
  },
  {
   "cell_type": "code",
   "outputs": [],
   "source": [
    "# Tokenization using Hugging Face Transformers (BERT Tokenizer)\n",
    "MODEL_NAME = 'bert-base-uncased'\n",
    "tokenizer = AutoTokenizer.from_pretrained(MODEL_NAME)\n",
    "\n",
    "max_length = 128  #\n",
    "\n",
    "# Tokenize the text\n",
    "def tokenize_texts(texts, tokenizer, max_length=max_length):\n",
    "    return tokenizer(\n",
    "        list(texts),\n",
    "        max_length=max_length,\n",
    "        truncation=True,\n",
    "        padding='max_length',\n",
    "        return_tensors='tf'\n",
    "    )\n"
   ],
   "metadata": {
    "collapsed": false
   },
   "id": "d9a49232cee88920"
  },
  {
   "cell_type": "code",
   "outputs": [],
   "source": [
    "test_data = pd.read_csv('/kaggle/input/dataset/test.csv')\n",
    "\n",
    "# Convert text to lowercase\n",
    "test_data['Discussion'] = test_data['Discussion'].str.lower()\n",
    "# Remove URLs and special characters\n",
    "url_pattern = r'http[s]?://(?:[a-zA-Z]|[0-9]|[$-_@.&+]|[!*\\\\(\\\\),]|(?:%[0-9a-fA-F][0-9a-fA-F]))+'\n",
    "test_data['Discussion'] = test_data['Discussion'].replace({r'\\\\n': ' '}, regex=True)\n",
    "test_data['Discussion'] = test_data['Discussion'].apply(lambda x: re.sub(url_pattern, '', x))\n",
    "test_data['Discussion'] = test_data['Discussion'].apply(lambda x: re.sub(r'[^a-zA-Z\\s]', '', x))\n",
    "test_data['Discussion'] = test_data['Discussion'].apply(lambda x: x.strip())  # Remove leading/trailing spaces\n",
    "test_data['Discussion'] = test_data['Discussion'].apply(lambda x: re.sub(r'\\s+', ' ', x))  # Replace multiple spaces with a single space"
   ],
   "metadata": {
    "collapsed": false
   },
   "id": "80f45fa69ad3d58c"
  },
  {
   "cell_type": "code",
   "outputs": [],
   "source": [
    "y_output_test = [test_data.copy()] * 6\n",
    "# Load the trained model\n",
    "for i in range(5):\n",
    "  model = load_model(f'my_model{i}.h5')\n",
    "  # Tokenize training and testing data\n",
    "  Xt = tokenize_texts(test_data['Discussion'], tokenizer, max_length=max_length)\n",
    "  # Extract token IDs for embedding input\n",
    "  Xti = Xt['input_ids']\n",
    "  y_output_test[i] = model.predict(Xti, verbose=1)\n",
    "ttttt = [0] * len( y_output_test[0])\n",
    "print(f'len(ttttt)= {len(ttttt)}')\n",
    "\n",
    "for i in range(len(y_output_test[0])):\n",
    "  mx, mxi = -1, 0\n",
    "  for c in range(5):\n",
    "    if mx < y_output_test[c][i]:\n",
    "      mx = y_output_test[c][i]\n",
    "      mxi = c\n",
    "  ttttt[i] = mxi"
   ],
   "metadata": {
    "collapsed": false
   },
   "id": "768d4319aefaf0f7"
  },
  {
   "cell_type": "code",
   "outputs": [],
   "source": [
    "test_data['Category'] = ttttt\n",
    "\n",
    "test_data['Category'].head(20)\n",
    "\n",
    "# Save results to a new CSV file\n",
    "output_file = 'predicted_categories.csv'\n",
    "test_data[['SampleID', 'Category']].to_csv(output_file, index=False)\n",
    "\n",
    "print(f\"Predictions saved to {output_file}\")"
   ],
   "metadata": {
    "collapsed": false
   },
   "id": "204ad4254dd0411d"
  }
 ],
 "metadata": {
  "kernelspec": {
   "display_name": "Python 3",
   "language": "python",
   "name": "python3"
  },
  "language_info": {
   "codemirror_mode": {
    "name": "ipython",
    "version": 2
   },
   "file_extension": ".py",
   "mimetype": "text/x-python",
   "name": "python",
   "nbconvert_exporter": "python",
   "pygments_lexer": "ipython2",
   "version": "2.7.6"
  }
 },
 "nbformat": 4,
 "nbformat_minor": 5
}
